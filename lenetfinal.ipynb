{
 "cells": [
  {
   "cell_type": "code",
   "execution_count": 1,
   "metadata": {
    "_cell_guid": "b1076dfc-b9ad-4769-8c92-a6c4dae69d19",
    "_uuid": "8f2839f25d086af736a60e9eeb907d3b93b6e0e5",
    "execution": {
     "iopub.execute_input": "2023-04-06T11:46:56.217401Z",
     "iopub.status.busy": "2023-04-06T11:46:56.216798Z",
     "iopub.status.idle": "2023-04-06T11:47:04.062109Z",
     "shell.execute_reply": "2023-04-06T11:47:04.061139Z",
     "shell.execute_reply.started": "2023-04-06T11:46:56.217264Z"
    }
   },
   "outputs": [
    {
     "name": "stdout",
     "output_type": "stream",
     "text": [
      "Defaulting to user installation because normal site-packages is not writeable\n",
      "Requirement already satisfied: tensorflow in c:\\users\\hp\\appdata\\roaming\\python\\python311\\site-packages (2.15.0)\n",
      "Requirement already satisfied: tensorflow-intel==2.15.0 in c:\\users\\hp\\appdata\\roaming\\python\\python311\\site-packages (from tensorflow) (2.15.0)\n",
      "Requirement already satisfied: absl-py>=1.0.0 in c:\\users\\hp\\appdata\\roaming\\python\\python311\\site-packages (from tensorflow-intel==2.15.0->tensorflow) (2.1.0)\n",
      "Requirement already satisfied: astunparse>=1.6.0 in c:\\users\\hp\\appdata\\roaming\\python\\python311\\site-packages (from tensorflow-intel==2.15.0->tensorflow) (1.6.3)\n",
      "Requirement already satisfied: flatbuffers>=23.5.26 in c:\\users\\hp\\appdata\\roaming\\python\\python311\\site-packages (from tensorflow-intel==2.15.0->tensorflow) (23.5.26)\n",
      "Requirement already satisfied: gast!=0.5.0,!=0.5.1,!=0.5.2,>=0.2.1 in c:\\users\\hp\\appdata\\roaming\\python\\python311\\site-packages (from tensorflow-intel==2.15.0->tensorflow) (0.5.4)\n",
      "Requirement already satisfied: google-pasta>=0.1.1 in c:\\users\\hp\\appdata\\roaming\\python\\python311\\site-packages (from tensorflow-intel==2.15.0->tensorflow) (0.2.0)\n",
      "Requirement already satisfied: h5py>=2.9.0 in c:\\programdata\\anaconda3\\lib\\site-packages (from tensorflow-intel==2.15.0->tensorflow) (3.9.0)\n",
      "Requirement already satisfied: libclang>=13.0.0 in c:\\users\\hp\\appdata\\roaming\\python\\python311\\site-packages (from tensorflow-intel==2.15.0->tensorflow) (16.0.6)\n",
      "Requirement already satisfied: ml-dtypes~=0.2.0 in c:\\users\\hp\\appdata\\roaming\\python\\python311\\site-packages (from tensorflow-intel==2.15.0->tensorflow) (0.2.0)\n",
      "Requirement already satisfied: numpy<2.0.0,>=1.23.5 in c:\\programdata\\anaconda3\\lib\\site-packages (from tensorflow-intel==2.15.0->tensorflow) (1.24.3)\n",
      "Requirement already satisfied: opt-einsum>=2.3.2 in c:\\users\\hp\\appdata\\roaming\\python\\python311\\site-packages (from tensorflow-intel==2.15.0->tensorflow) (3.3.0)\n",
      "Requirement already satisfied: packaging in c:\\programdata\\anaconda3\\lib\\site-packages (from tensorflow-intel==2.15.0->tensorflow) (23.1)\n",
      "Requirement already satisfied: protobuf!=4.21.0,!=4.21.1,!=4.21.2,!=4.21.3,!=4.21.4,!=4.21.5,<5.0.0dev,>=3.20.3 in c:\\users\\hp\\appdata\\roaming\\python\\python311\\site-packages (from tensorflow-intel==2.15.0->tensorflow) (4.23.4)\n",
      "Requirement already satisfied: setuptools in c:\\programdata\\anaconda3\\lib\\site-packages (from tensorflow-intel==2.15.0->tensorflow) (68.0.0)\n",
      "Requirement already satisfied: six>=1.12.0 in c:\\programdata\\anaconda3\\lib\\site-packages (from tensorflow-intel==2.15.0->tensorflow) (1.16.0)\n",
      "Requirement already satisfied: termcolor>=1.1.0 in c:\\users\\hp\\appdata\\roaming\\python\\python311\\site-packages (from tensorflow-intel==2.15.0->tensorflow) (2.4.0)\n",
      "Requirement already satisfied: typing-extensions>=3.6.6 in c:\\programdata\\anaconda3\\lib\\site-packages (from tensorflow-intel==2.15.0->tensorflow) (4.7.1)\n",
      "Requirement already satisfied: wrapt<1.15,>=1.11.0 in c:\\programdata\\anaconda3\\lib\\site-packages (from tensorflow-intel==2.15.0->tensorflow) (1.14.1)\n",
      "Requirement already satisfied: tensorflow-io-gcs-filesystem>=0.23.1 in c:\\users\\hp\\appdata\\roaming\\python\\python311\\site-packages (from tensorflow-intel==2.15.0->tensorflow) (0.31.0)\n",
      "Requirement already satisfied: grpcio<2.0,>=1.24.3 in c:\\users\\hp\\appdata\\roaming\\python\\python311\\site-packages (from tensorflow-intel==2.15.0->tensorflow) (1.60.1)\n",
      "Requirement already satisfied: tensorboard<2.16,>=2.15 in c:\\users\\hp\\appdata\\roaming\\python\\python311\\site-packages (from tensorflow-intel==2.15.0->tensorflow) (2.15.1)\n",
      "Requirement already satisfied: tensorflow-estimator<2.16,>=2.15.0 in c:\\users\\hp\\appdata\\roaming\\python\\python311\\site-packages (from tensorflow-intel==2.15.0->tensorflow) (2.15.0)\n",
      "Requirement already satisfied: keras<2.16,>=2.15.0 in c:\\users\\hp\\appdata\\roaming\\python\\python311\\site-packages (from tensorflow-intel==2.15.0->tensorflow) (2.15.0)\n",
      "Requirement already satisfied: wheel<1.0,>=0.23.0 in c:\\programdata\\anaconda3\\lib\\site-packages (from astunparse>=1.6.0->tensorflow-intel==2.15.0->tensorflow) (0.38.4)\n",
      "Requirement already satisfied: google-auth<3,>=1.6.3 in c:\\users\\hp\\appdata\\roaming\\python\\python311\\site-packages (from tensorboard<2.16,>=2.15->tensorflow-intel==2.15.0->tensorflow) (2.27.0)\n",
      "Requirement already satisfied: google-auth-oauthlib<2,>=0.5 in c:\\users\\hp\\appdata\\roaming\\python\\python311\\site-packages (from tensorboard<2.16,>=2.15->tensorflow-intel==2.15.0->tensorflow) (1.2.0)\n",
      "Requirement already satisfied: markdown>=2.6.8 in c:\\programdata\\anaconda3\\lib\\site-packages (from tensorboard<2.16,>=2.15->tensorflow-intel==2.15.0->tensorflow) (3.4.1)\n",
      "Requirement already satisfied: requests<3,>=2.21.0 in c:\\programdata\\anaconda3\\lib\\site-packages (from tensorboard<2.16,>=2.15->tensorflow-intel==2.15.0->tensorflow) (2.31.0)\n",
      "Requirement already satisfied: tensorboard-data-server<0.8.0,>=0.7.0 in c:\\users\\hp\\appdata\\roaming\\python\\python311\\site-packages (from tensorboard<2.16,>=2.15->tensorflow-intel==2.15.0->tensorflow) (0.7.2)\n",
      "Requirement already satisfied: werkzeug>=1.0.1 in c:\\programdata\\anaconda3\\lib\\site-packages (from tensorboard<2.16,>=2.15->tensorflow-intel==2.15.0->tensorflow) (2.2.3)\n",
      "Requirement already satisfied: cachetools<6.0,>=2.0.0 in c:\\users\\hp\\appdata\\roaming\\python\\python311\\site-packages (from google-auth<3,>=1.6.3->tensorboard<2.16,>=2.15->tensorflow-intel==2.15.0->tensorflow) (5.3.2)\n",
      "Requirement already satisfied: pyasn1-modules>=0.2.1 in c:\\programdata\\anaconda3\\lib\\site-packages (from google-auth<3,>=1.6.3->tensorboard<2.16,>=2.15->tensorflow-intel==2.15.0->tensorflow) (0.2.8)\n",
      "Requirement already satisfied: rsa<5,>=3.1.4 in c:\\users\\hp\\appdata\\roaming\\python\\python311\\site-packages (from google-auth<3,>=1.6.3->tensorboard<2.16,>=2.15->tensorflow-intel==2.15.0->tensorflow) (4.9)\n",
      "Requirement already satisfied: requests-oauthlib>=0.7.0 in c:\\users\\hp\\appdata\\roaming\\python\\python311\\site-packages (from google-auth-oauthlib<2,>=0.5->tensorboard<2.16,>=2.15->tensorflow-intel==2.15.0->tensorflow) (1.3.1)\n",
      "Requirement already satisfied: charset-normalizer<4,>=2 in c:\\programdata\\anaconda3\\lib\\site-packages (from requests<3,>=2.21.0->tensorboard<2.16,>=2.15->tensorflow-intel==2.15.0->tensorflow) (2.0.4)\n",
      "Requirement already satisfied: idna<4,>=2.5 in c:\\programdata\\anaconda3\\lib\\site-packages (from requests<3,>=2.21.0->tensorboard<2.16,>=2.15->tensorflow-intel==2.15.0->tensorflow) (3.4)\n",
      "Requirement already satisfied: urllib3<3,>=1.21.1 in c:\\programdata\\anaconda3\\lib\\site-packages (from requests<3,>=2.21.0->tensorboard<2.16,>=2.15->tensorflow-intel==2.15.0->tensorflow) (1.26.16)\n",
      "Requirement already satisfied: certifi>=2017.4.17 in c:\\programdata\\anaconda3\\lib\\site-packages (from requests<3,>=2.21.0->tensorboard<2.16,>=2.15->tensorflow-intel==2.15.0->tensorflow) (2023.7.22)\n",
      "Requirement already satisfied: MarkupSafe>=2.1.1 in c:\\programdata\\anaconda3\\lib\\site-packages (from werkzeug>=1.0.1->tensorboard<2.16,>=2.15->tensorflow-intel==2.15.0->tensorflow) (2.1.1)\n",
      "Requirement already satisfied: pyasn1<0.5.0,>=0.4.6 in c:\\programdata\\anaconda3\\lib\\site-packages (from pyasn1-modules>=0.2.1->google-auth<3,>=1.6.3->tensorboard<2.16,>=2.15->tensorflow-intel==2.15.0->tensorflow) (0.4.8)\n",
      "Requirement already satisfied: oauthlib>=3.0.0 in c:\\users\\hp\\appdata\\roaming\\python\\python311\\site-packages (from requests-oauthlib>=0.7.0->google-auth-oauthlib<2,>=0.5->tensorboard<2.16,>=2.15->tensorflow-intel==2.15.0->tensorflow) (3.2.2)\n",
      "Note: you may need to restart the kernel to use updated packages.\n"
     ]
    }
   ],
   "source": [
    "pip install tensorflow"
   ]
  },
  {
   "cell_type": "code",
   "execution_count": 2,
   "metadata": {},
   "outputs": [
    {
     "name": "stdout",
     "output_type": "stream",
     "text": [
      "WARNING:tensorflow:From C:\\Users\\HP\\AppData\\Roaming\\Python\\Python311\\site-packages\\keras\\src\\losses.py:2976: The name tf.losses.sparse_softmax_cross_entropy is deprecated. Please use tf.compat.v1.losses.sparse_softmax_cross_entropy instead.\n",
      "\n"
     ]
    }
   ],
   "source": [
    "import pandas as pd\n",
    "import numpy as np\n",
    "\n",
    "import tensorflow as tf\n",
    "from tensorflow.keras.layers import Dense, Dropout\n",
    "from tensorflow.keras.optimizers import Adam\n",
    "from tensorflow.keras.metrics import categorical_crossentropy #should research\n",
    "from tensorflow.keras.preprocessing.image import ImageDataGenerator\n",
    "from tensorflow.keras.models import Model\n",
    "from tensorflow.keras.callbacks import EarlyStopping, ReduceLROnPlateau, ModelCheckpoint #should research\n",
    "\n",
    "from keras.layers import Convolution2D, MaxPooling2D\n",
    "from keras.layers import Dense, Flatten\n",
    "from keras.models import Sequential\n",
    "\n",
    "\n",
    "import os\n",
    "\n",
    "from sklearn.metrics import confusion_matrix\n",
    "from sklearn.model_selection import train_test_split\n",
    "import itertools\n",
    "import shutil\n",
    "import matplotlib.pyplot as plt\n",
    "%matplotlib inline"
   ]
  },
  {
   "cell_type": "code",
   "execution_count": 3,
   "metadata": {
    "execution": {
     "iopub.execute_input": "2023-04-06T11:47:04.064000Z",
     "iopub.status.busy": "2023-04-06T11:47:04.063727Z",
     "iopub.status.idle": "2023-04-06T11:47:04.078193Z",
     "shell.execute_reply": "2023-04-06T11:47:04.077258Z",
     "shell.execute_reply.started": "2023-04-06T11:47:04.063967Z"
    }
   },
   "outputs": [
    {
     "data": {
      "text/plain": [
       "['HAM10000_images_part_1',\n",
       " 'HAM10000_images_part_2',\n",
       " 'HAM10000_metadata.csv',\n",
       " 'hmnist_28_28_L.csv',\n",
       " 'hmnist_28_28_RGB.csv',\n",
       " 'hmnist_8_8_L.csv',\n",
       " 'hmnist_8_8_RGB.csv']"
      ]
     },
     "execution_count": 3,
     "metadata": {},
     "output_type": "execute_result"
    }
   ],
   "source": [
    "input_path = 'C:/Users/HP/Desktop/MY PROJECT/LENET/input/'\n",
    "os.listdir(input_path)"
   ]
  },
  {
   "cell_type": "code",
   "execution_count": 4,
   "metadata": {
    "execution": {
     "iopub.execute_input": "2023-04-06T11:47:04.080319Z",
     "iopub.status.busy": "2023-04-06T11:47:04.079903Z",
     "iopub.status.idle": "2023-04-06T11:47:04.097366Z",
     "shell.execute_reply": "2023-04-06T11:47:04.096286Z",
     "shell.execute_reply.started": "2023-04-06T11:47:04.080281Z"
    }
   },
   "outputs": [],
   "source": [
    "main_dir = 'main_dir'\n",
    "os.mkdir(main_dir)\n",
    "\n",
    "train_dir = os.path.join(main_dir, 'train_dir')\n",
    "os.mkdir(train_dir)\n",
    "\n",
    "val_dir = os.path.join(main_dir, 'val_dir')\n",
    "os.mkdir(val_dir)\n",
    "\n",
    "test_dir = os.path.join(main_dir, 'test_dir')\n",
    "os.mkdir(test_dir)\n",
    "\n",
    "nv = os.path.join(train_dir, 'nv')\n",
    "os.mkdir(nv)\n",
    "mel = os.path.join(train_dir, 'mel')\n",
    "os.mkdir(mel)\n",
    "bkl = os.path.join(train_dir, 'bkl')\n",
    "os.mkdir(bkl)\n",
    "bcc = os.path.join(train_dir, 'bcc')\n",
    "os.mkdir(bcc)\n",
    "akiec = os.path.join(train_dir, 'akiec')\n",
    "os.mkdir(akiec)\n",
    "vasc = os.path.join(train_dir, 'vasc')\n",
    "os.mkdir(vasc)\n",
    "df = os.path.join(train_dir, 'df')\n",
    "os.mkdir(df)\n",
    "\n",
    "nv = os.path.join(test_dir, 'nv')\n",
    "os.mkdir(nv)\n",
    "mel = os.path.join(test_dir, 'mel')\n",
    "os.mkdir(mel)\n",
    "bkl = os.path.join(test_dir, 'bkl')\n",
    "os.mkdir(bkl)\n",
    "bcc = os.path.join(test_dir, 'bcc')\n",
    "os.mkdir(bcc)\n",
    "akiec = os.path.join(test_dir, 'akiec')\n",
    "os.mkdir(akiec)\n",
    "vasc = os.path.join(test_dir, 'vasc')\n",
    "os.mkdir(vasc)\n",
    "df = os.path.join(test_dir, 'df')\n",
    "os.mkdir(df)\n",
    "\n",
    "nv = os.path.join(val_dir, 'nv')\n",
    "os.mkdir(nv)\n",
    "mel = os.path.join(val_dir, 'mel')\n",
    "os.mkdir(mel)\n",
    "bkl = os.path.join(val_dir, 'bkl')\n",
    "os.mkdir(bkl)\n",
    "bcc = os.path.join(val_dir, 'bcc')\n",
    "os.mkdir(bcc)\n",
    "akiec = os.path.join(val_dir, 'akiec')\n",
    "os.mkdir(akiec)\n",
    "vasc = os.path.join(val_dir, 'vasc')\n",
    "os.mkdir(vasc)\n",
    "df = os.path.join(val_dir, 'df')\n",
    "os.mkdir(df)\n"
   ]
  },
  {
   "cell_type": "code",
   "execution_count": 5,
   "metadata": {
    "execution": {
     "iopub.execute_input": "2023-04-06T11:47:04.099972Z",
     "iopub.status.busy": "2023-04-06T11:47:04.099672Z",
     "iopub.status.idle": "2023-04-06T11:47:04.166581Z",
     "shell.execute_reply": "2023-04-06T11:47:04.165683Z",
     "shell.execute_reply.started": "2023-04-06T11:47:04.099936Z"
    }
   },
   "outputs": [
    {
     "data": {
      "text/html": [
       "<div>\n",
       "<style scoped>\n",
       "    .dataframe tbody tr th:only-of-type {\n",
       "        vertical-align: middle;\n",
       "    }\n",
       "\n",
       "    .dataframe tbody tr th {\n",
       "        vertical-align: top;\n",
       "    }\n",
       "\n",
       "    .dataframe thead th {\n",
       "        text-align: right;\n",
       "    }\n",
       "</style>\n",
       "<table border=\"1\" class=\"dataframe\">\n",
       "  <thead>\n",
       "    <tr style=\"text-align: right;\">\n",
       "      <th></th>\n",
       "      <th>lesion_id</th>\n",
       "      <th>image_id</th>\n",
       "      <th>dx</th>\n",
       "      <th>dx_type</th>\n",
       "      <th>age</th>\n",
       "      <th>sex</th>\n",
       "      <th>localization</th>\n",
       "    </tr>\n",
       "  </thead>\n",
       "  <tbody>\n",
       "    <tr>\n",
       "      <th>0</th>\n",
       "      <td>HAM_0000118</td>\n",
       "      <td>ISIC_0027419</td>\n",
       "      <td>bkl</td>\n",
       "      <td>histo</td>\n",
       "      <td>80.0</td>\n",
       "      <td>male</td>\n",
       "      <td>scalp</td>\n",
       "    </tr>\n",
       "    <tr>\n",
       "      <th>1</th>\n",
       "      <td>HAM_0000118</td>\n",
       "      <td>ISIC_0025030</td>\n",
       "      <td>bkl</td>\n",
       "      <td>histo</td>\n",
       "      <td>80.0</td>\n",
       "      <td>male</td>\n",
       "      <td>scalp</td>\n",
       "    </tr>\n",
       "    <tr>\n",
       "      <th>2</th>\n",
       "      <td>HAM_0002730</td>\n",
       "      <td>ISIC_0026769</td>\n",
       "      <td>bkl</td>\n",
       "      <td>histo</td>\n",
       "      <td>80.0</td>\n",
       "      <td>male</td>\n",
       "      <td>scalp</td>\n",
       "    </tr>\n",
       "    <tr>\n",
       "      <th>3</th>\n",
       "      <td>HAM_0002730</td>\n",
       "      <td>ISIC_0025661</td>\n",
       "      <td>bkl</td>\n",
       "      <td>histo</td>\n",
       "      <td>80.0</td>\n",
       "      <td>male</td>\n",
       "      <td>scalp</td>\n",
       "    </tr>\n",
       "    <tr>\n",
       "      <th>4</th>\n",
       "      <td>HAM_0001466</td>\n",
       "      <td>ISIC_0031633</td>\n",
       "      <td>bkl</td>\n",
       "      <td>histo</td>\n",
       "      <td>75.0</td>\n",
       "      <td>male</td>\n",
       "      <td>ear</td>\n",
       "    </tr>\n",
       "  </tbody>\n",
       "</table>\n",
       "</div>"
      ],
      "text/plain": [
       "     lesion_id      image_id   dx dx_type   age   sex localization\n",
       "0  HAM_0000118  ISIC_0027419  bkl   histo  80.0  male        scalp\n",
       "1  HAM_0000118  ISIC_0025030  bkl   histo  80.0  male        scalp\n",
       "2  HAM_0002730  ISIC_0026769  bkl   histo  80.0  male        scalp\n",
       "3  HAM_0002730  ISIC_0025661  bkl   histo  80.0  male        scalp\n",
       "4  HAM_0001466  ISIC_0031633  bkl   histo  75.0  male          ear"
      ]
     },
     "execution_count": 5,
     "metadata": {},
     "output_type": "execute_result"
    }
   ],
   "source": [
    "df_data = pd.read_csv(input_path + 'HAM10000_metadata.csv')\n",
    "\n",
    "df_data.head()"
   ]
  },
  {
   "cell_type": "code",
   "execution_count": 6,
   "metadata": {
    "execution": {
     "iopub.execute_input": "2023-04-06T11:47:04.168640Z",
     "iopub.status.busy": "2023-04-06T11:47:04.168158Z",
     "iopub.status.idle": "2023-04-06T11:47:04.198155Z",
     "shell.execute_reply": "2023-04-06T11:47:04.197139Z",
     "shell.execute_reply.started": "2023-04-06T11:47:04.168607Z"
    }
   },
   "outputs": [],
   "source": [
    "df = df_data.groupby('lesion_id').count()\n",
    "\n",
    "df = df[df['image_id'] == 1]\n",
    "\n",
    "df.reset_index(inplace=True) #should research"
   ]
  },
  {
   "cell_type": "code",
   "execution_count": 7,
   "metadata": {
    "execution": {
     "iopub.execute_input": "2023-04-06T11:47:04.199772Z",
     "iopub.status.busy": "2023-04-06T11:47:04.199446Z",
     "iopub.status.idle": "2023-04-06T11:47:09.878169Z",
     "shell.execute_reply": "2023-04-06T11:47:09.877220Z",
     "shell.execute_reply.started": "2023-04-06T11:47:04.199719Z"
    }
   },
   "outputs": [],
   "source": [
    "def identify_duplicates(x):\n",
    "    \n",
    "    unique_list = list(df['lesion_id'])\n",
    "    \n",
    "    if x in unique_list:\n",
    "        return 'no_duplicates'\n",
    "    else:\n",
    "        return 'has_duplicates'\n",
    "    \n",
    "df_data['duplicates'] = df_data['lesion_id']\n",
    "\n",
    "df_data['duplicates'] = df_data['duplicates'].apply(identify_duplicates)"
   ]
  },
  {
   "cell_type": "code",
   "execution_count": 8,
   "metadata": {
    "execution": {
     "iopub.execute_input": "2023-04-06T11:47:09.879609Z",
     "iopub.status.busy": "2023-04-06T11:47:09.879362Z",
     "iopub.status.idle": "2023-04-06T11:47:09.886477Z",
     "shell.execute_reply": "2023-04-06T11:47:09.885604Z",
     "shell.execute_reply.started": "2023-04-06T11:47:09.879580Z"
    }
   },
   "outputs": [
    {
     "data": {
      "text/plain": [
       "(5514, 7)"
      ]
     },
     "execution_count": 8,
     "metadata": {},
     "output_type": "execute_result"
    }
   ],
   "source": [
    "df.shape"
   ]
  },
  {
   "cell_type": "code",
   "execution_count": 9,
   "metadata": {
    "execution": {
     "iopub.execute_input": "2023-04-06T11:47:09.887848Z",
     "iopub.status.busy": "2023-04-06T11:47:09.887622Z",
     "iopub.status.idle": "2023-04-06T11:47:09.897658Z",
     "shell.execute_reply": "2023-04-06T11:47:09.896767Z",
     "shell.execute_reply.started": "2023-04-06T11:47:09.887820Z"
    }
   },
   "outputs": [],
   "source": [
    "from sklearn.model_selection import KFold\n",
    "from sklearn.model_selection import cross_val_score"
   ]
  },
  {
   "cell_type": "code",
   "execution_count": 10,
   "metadata": {
    "execution": {
     "iopub.execute_input": "2023-04-06T11:47:09.899752Z",
     "iopub.status.busy": "2023-04-06T11:47:09.899193Z",
     "iopub.status.idle": "2023-04-06T11:47:09.910146Z",
     "shell.execute_reply": "2023-04-06T11:47:09.909331Z",
     "shell.execute_reply.started": "2023-04-06T11:47:09.899702Z"
    }
   },
   "outputs": [],
   "source": [
    "from sklearn.model_selection import KFold, StratifiedKFold\n",
    "                         \n",
    "skf = StratifiedKFold(n_splits = 10,random_state = 7, shuffle = True) "
   ]
  },
  {
   "cell_type": "code",
   "execution_count": 11,
   "metadata": {
    "execution": {
     "iopub.execute_input": "2023-04-06T11:47:09.913342Z",
     "iopub.status.busy": "2023-04-06T11:47:09.912602Z",
     "iopub.status.idle": "2023-04-06T11:47:09.939465Z",
     "shell.execute_reply": "2023-04-06T11:47:09.938789Z",
     "shell.execute_reply.started": "2023-04-06T11:47:09.913305Z"
    }
   },
   "outputs": [
    {
     "name": "stdout",
     "output_type": "stream",
     "text": [
      "(5514, 8)\n",
      "(3514, 8)\n",
      "(1000, 8)\n",
      "(1000, 8)\n"
     ]
    }
   ],
   "source": [
    "df = df_data[df_data['duplicates'] == 'no_duplicates']\n",
    "\n",
    "y = df['dx']\n",
    "print(df.shape)\n",
    "\n",
    "#_, df_val = train_test_split(df, test_size = 0.17, random_state=101, stratify=y)\n",
    "#should research\n",
    "df_train, df_test, y_train, y_test = train_test_split(df, y, test_size=0.3627, random_state=1)\n",
    "\n",
    "df_test, df_val, y_test, y_val = train_test_split(df_test, y_test, test_size=0.5, random_state=1)\n",
    "print(df_train.shape)\n",
    "print(df_test.shape)\n",
    "print(df_val.shape)"
   ]
  },
  {
   "cell_type": "code",
   "execution_count": 12,
   "metadata": {
    "execution": {
     "iopub.execute_input": "2023-04-06T11:47:09.941273Z",
     "iopub.status.busy": "2023-04-06T11:47:09.940628Z",
     "iopub.status.idle": "2023-04-06T11:47:12.233638Z",
     "shell.execute_reply": "2023-04-06T11:47:12.232540Z",
     "shell.execute_reply.started": "2023-04-06T11:47:09.941233Z"
    }
   },
   "outputs": [],
   "source": [
    "def identify_val_rows(x):\n",
    "    \n",
    "    val_list = list(df_val['image_id'])\n",
    "    test_list = list(df_test['image_id'])\n",
    "    \n",
    "    if str(x) in val_list or str(x) in test_list:\n",
    "        return 'val'\n",
    "    else:\n",
    "        return 'train'\n",
    "    \n",
    "    \n",
    "df_data['train_or_val'] = df_data['image_id']\n",
    "\n",
    "df_data['train_or_val'] = df_data['train_or_val'].apply(identify_val_rows)\n",
    "\n",
    "df_train = df_data[df_data['train_or_val'] == 'train']"
   ]
  },
  {
   "cell_type": "code",
   "execution_count": 13,
   "metadata": {
    "execution": {
     "iopub.execute_input": "2023-04-06T11:47:12.235271Z",
     "iopub.status.busy": "2023-04-06T11:47:12.234979Z",
     "iopub.status.idle": "2023-04-06T11:47:12.257182Z",
     "shell.execute_reply": "2023-04-06T11:47:12.255985Z",
     "shell.execute_reply.started": "2023-04-06T11:47:12.235237Z"
    }
   },
   "outputs": [
    {
     "data": {
      "text/html": [
       "<div>\n",
       "<style scoped>\n",
       "    .dataframe tbody tr th:only-of-type {\n",
       "        vertical-align: middle;\n",
       "    }\n",
       "\n",
       "    .dataframe tbody tr th {\n",
       "        vertical-align: top;\n",
       "    }\n",
       "\n",
       "    .dataframe thead th {\n",
       "        text-align: right;\n",
       "    }\n",
       "</style>\n",
       "<table border=\"1\" class=\"dataframe\">\n",
       "  <thead>\n",
       "    <tr style=\"text-align: right;\">\n",
       "      <th></th>\n",
       "      <th>lesion_id</th>\n",
       "      <th>image_id</th>\n",
       "      <th>dx</th>\n",
       "      <th>dx_type</th>\n",
       "      <th>age</th>\n",
       "      <th>sex</th>\n",
       "      <th>localization</th>\n",
       "      <th>duplicates</th>\n",
       "      <th>train_or_val</th>\n",
       "    </tr>\n",
       "  </thead>\n",
       "  <tbody>\n",
       "    <tr>\n",
       "      <th>0</th>\n",
       "      <td>HAM_0000118</td>\n",
       "      <td>ISIC_0027419</td>\n",
       "      <td>bkl</td>\n",
       "      <td>histo</td>\n",
       "      <td>80.0</td>\n",
       "      <td>male</td>\n",
       "      <td>scalp</td>\n",
       "      <td>has_duplicates</td>\n",
       "      <td>train</td>\n",
       "    </tr>\n",
       "    <tr>\n",
       "      <th>1</th>\n",
       "      <td>HAM_0000118</td>\n",
       "      <td>ISIC_0025030</td>\n",
       "      <td>bkl</td>\n",
       "      <td>histo</td>\n",
       "      <td>80.0</td>\n",
       "      <td>male</td>\n",
       "      <td>scalp</td>\n",
       "      <td>has_duplicates</td>\n",
       "      <td>train</td>\n",
       "    </tr>\n",
       "    <tr>\n",
       "      <th>2</th>\n",
       "      <td>HAM_0002730</td>\n",
       "      <td>ISIC_0026769</td>\n",
       "      <td>bkl</td>\n",
       "      <td>histo</td>\n",
       "      <td>80.0</td>\n",
       "      <td>male</td>\n",
       "      <td>scalp</td>\n",
       "      <td>has_duplicates</td>\n",
       "      <td>train</td>\n",
       "    </tr>\n",
       "    <tr>\n",
       "      <th>3</th>\n",
       "      <td>HAM_0002730</td>\n",
       "      <td>ISIC_0025661</td>\n",
       "      <td>bkl</td>\n",
       "      <td>histo</td>\n",
       "      <td>80.0</td>\n",
       "      <td>male</td>\n",
       "      <td>scalp</td>\n",
       "      <td>has_duplicates</td>\n",
       "      <td>train</td>\n",
       "    </tr>\n",
       "    <tr>\n",
       "      <th>4</th>\n",
       "      <td>HAM_0001466</td>\n",
       "      <td>ISIC_0031633</td>\n",
       "      <td>bkl</td>\n",
       "      <td>histo</td>\n",
       "      <td>75.0</td>\n",
       "      <td>male</td>\n",
       "      <td>ear</td>\n",
       "      <td>has_duplicates</td>\n",
       "      <td>train</td>\n",
       "    </tr>\n",
       "    <tr>\n",
       "      <th>...</th>\n",
       "      <td>...</td>\n",
       "      <td>...</td>\n",
       "      <td>...</td>\n",
       "      <td>...</td>\n",
       "      <td>...</td>\n",
       "      <td>...</td>\n",
       "      <td>...</td>\n",
       "      <td>...</td>\n",
       "      <td>...</td>\n",
       "    </tr>\n",
       "    <tr>\n",
       "      <th>10010</th>\n",
       "      <td>HAM_0002867</td>\n",
       "      <td>ISIC_0033084</td>\n",
       "      <td>akiec</td>\n",
       "      <td>histo</td>\n",
       "      <td>40.0</td>\n",
       "      <td>male</td>\n",
       "      <td>abdomen</td>\n",
       "      <td>has_duplicates</td>\n",
       "      <td>train</td>\n",
       "    </tr>\n",
       "    <tr>\n",
       "      <th>10011</th>\n",
       "      <td>HAM_0002867</td>\n",
       "      <td>ISIC_0033550</td>\n",
       "      <td>akiec</td>\n",
       "      <td>histo</td>\n",
       "      <td>40.0</td>\n",
       "      <td>male</td>\n",
       "      <td>abdomen</td>\n",
       "      <td>has_duplicates</td>\n",
       "      <td>train</td>\n",
       "    </tr>\n",
       "    <tr>\n",
       "      <th>10012</th>\n",
       "      <td>HAM_0002867</td>\n",
       "      <td>ISIC_0033536</td>\n",
       "      <td>akiec</td>\n",
       "      <td>histo</td>\n",
       "      <td>40.0</td>\n",
       "      <td>male</td>\n",
       "      <td>abdomen</td>\n",
       "      <td>has_duplicates</td>\n",
       "      <td>train</td>\n",
       "    </tr>\n",
       "    <tr>\n",
       "      <th>10013</th>\n",
       "      <td>HAM_0000239</td>\n",
       "      <td>ISIC_0032854</td>\n",
       "      <td>akiec</td>\n",
       "      <td>histo</td>\n",
       "      <td>80.0</td>\n",
       "      <td>male</td>\n",
       "      <td>face</td>\n",
       "      <td>has_duplicates</td>\n",
       "      <td>train</td>\n",
       "    </tr>\n",
       "    <tr>\n",
       "      <th>10014</th>\n",
       "      <td>HAM_0003521</td>\n",
       "      <td>ISIC_0032258</td>\n",
       "      <td>mel</td>\n",
       "      <td>histo</td>\n",
       "      <td>70.0</td>\n",
       "      <td>female</td>\n",
       "      <td>back</td>\n",
       "      <td>has_duplicates</td>\n",
       "      <td>train</td>\n",
       "    </tr>\n",
       "  </tbody>\n",
       "</table>\n",
       "<p>8015 rows × 9 columns</p>\n",
       "</div>"
      ],
      "text/plain": [
       "         lesion_id      image_id     dx dx_type   age     sex localization  \\\n",
       "0      HAM_0000118  ISIC_0027419    bkl   histo  80.0    male        scalp   \n",
       "1      HAM_0000118  ISIC_0025030    bkl   histo  80.0    male        scalp   \n",
       "2      HAM_0002730  ISIC_0026769    bkl   histo  80.0    male        scalp   \n",
       "3      HAM_0002730  ISIC_0025661    bkl   histo  80.0    male        scalp   \n",
       "4      HAM_0001466  ISIC_0031633    bkl   histo  75.0    male          ear   \n",
       "...            ...           ...    ...     ...   ...     ...          ...   \n",
       "10010  HAM_0002867  ISIC_0033084  akiec   histo  40.0    male      abdomen   \n",
       "10011  HAM_0002867  ISIC_0033550  akiec   histo  40.0    male      abdomen   \n",
       "10012  HAM_0002867  ISIC_0033536  akiec   histo  40.0    male      abdomen   \n",
       "10013  HAM_0000239  ISIC_0032854  akiec   histo  80.0    male         face   \n",
       "10014  HAM_0003521  ISIC_0032258    mel   histo  70.0  female         back   \n",
       "\n",
       "           duplicates train_or_val  \n",
       "0      has_duplicates        train  \n",
       "1      has_duplicates        train  \n",
       "2      has_duplicates        train  \n",
       "3      has_duplicates        train  \n",
       "4      has_duplicates        train  \n",
       "...               ...          ...  \n",
       "10010  has_duplicates        train  \n",
       "10011  has_duplicates        train  \n",
       "10012  has_duplicates        train  \n",
       "10013  has_duplicates        train  \n",
       "10014  has_duplicates        train  \n",
       "\n",
       "[8015 rows x 9 columns]"
      ]
     },
     "execution_count": 13,
     "metadata": {},
     "output_type": "execute_result"
    }
   ],
   "source": [
    "df_train"
   ]
  },
  {
   "cell_type": "code",
   "execution_count": 14,
   "metadata": {
    "execution": {
     "iopub.execute_input": "2023-04-06T11:47:12.259209Z",
     "iopub.status.busy": "2023-04-06T11:47:12.258859Z",
     "iopub.status.idle": "2023-04-06T11:47:12.286635Z",
     "shell.execute_reply": "2023-04-06T11:47:12.285695Z",
     "shell.execute_reply.started": "2023-04-06T11:47:12.259160Z"
    }
   },
   "outputs": [
    {
     "data": {
      "text/html": [
       "<div>\n",
       "<style scoped>\n",
       "    .dataframe tbody tr th:only-of-type {\n",
       "        vertical-align: middle;\n",
       "    }\n",
       "\n",
       "    .dataframe tbody tr th {\n",
       "        vertical-align: top;\n",
       "    }\n",
       "\n",
       "    .dataframe thead th {\n",
       "        text-align: right;\n",
       "    }\n",
       "</style>\n",
       "<table border=\"1\" class=\"dataframe\">\n",
       "  <thead>\n",
       "    <tr style=\"text-align: right;\">\n",
       "      <th></th>\n",
       "      <th>lesion_id</th>\n",
       "      <th>image_id</th>\n",
       "      <th>dx</th>\n",
       "      <th>dx_type</th>\n",
       "      <th>age</th>\n",
       "      <th>sex</th>\n",
       "      <th>localization</th>\n",
       "      <th>duplicates</th>\n",
       "    </tr>\n",
       "  </thead>\n",
       "  <tbody>\n",
       "    <tr>\n",
       "      <th>905</th>\n",
       "      <td>HAM_0005845</td>\n",
       "      <td>ISIC_0025851</td>\n",
       "      <td>bkl</td>\n",
       "      <td>consensus</td>\n",
       "      <td>80.0</td>\n",
       "      <td>female</td>\n",
       "      <td>face</td>\n",
       "      <td>no_duplicates</td>\n",
       "    </tr>\n",
       "    <tr>\n",
       "      <th>3857</th>\n",
       "      <td>HAM_0005397</td>\n",
       "      <td>ISIC_0028105</td>\n",
       "      <td>nv</td>\n",
       "      <td>follow_up</td>\n",
       "      <td>35.0</td>\n",
       "      <td>male</td>\n",
       "      <td>lower extremity</td>\n",
       "      <td>no_duplicates</td>\n",
       "    </tr>\n",
       "    <tr>\n",
       "      <th>2213</th>\n",
       "      <td>HAM_0006744</td>\n",
       "      <td>ISIC_0031561</td>\n",
       "      <td>mel</td>\n",
       "      <td>histo</td>\n",
       "      <td>55.0</td>\n",
       "      <td>male</td>\n",
       "      <td>back</td>\n",
       "      <td>no_duplicates</td>\n",
       "    </tr>\n",
       "    <tr>\n",
       "      <th>3989</th>\n",
       "      <td>HAM_0001909</td>\n",
       "      <td>ISIC_0025481</td>\n",
       "      <td>nv</td>\n",
       "      <td>follow_up</td>\n",
       "      <td>55.0</td>\n",
       "      <td>male</td>\n",
       "      <td>upper extremity</td>\n",
       "      <td>no_duplicates</td>\n",
       "    </tr>\n",
       "    <tr>\n",
       "      <th>4028</th>\n",
       "      <td>HAM_0000010</td>\n",
       "      <td>ISIC_0027730</td>\n",
       "      <td>nv</td>\n",
       "      <td>follow_up</td>\n",
       "      <td>70.0</td>\n",
       "      <td>female</td>\n",
       "      <td>back</td>\n",
       "      <td>no_duplicates</td>\n",
       "    </tr>\n",
       "    <tr>\n",
       "      <th>...</th>\n",
       "      <td>...</td>\n",
       "      <td>...</td>\n",
       "      <td>...</td>\n",
       "      <td>...</td>\n",
       "      <td>...</td>\n",
       "      <td>...</td>\n",
       "      <td>...</td>\n",
       "      <td>...</td>\n",
       "    </tr>\n",
       "    <tr>\n",
       "      <th>6034</th>\n",
       "      <td>HAM_0006589</td>\n",
       "      <td>ISIC_0031187</td>\n",
       "      <td>nv</td>\n",
       "      <td>follow_up</td>\n",
       "      <td>40.0</td>\n",
       "      <td>male</td>\n",
       "      <td>trunk</td>\n",
       "      <td>no_duplicates</td>\n",
       "    </tr>\n",
       "    <tr>\n",
       "      <th>3861</th>\n",
       "      <td>HAM_0007285</td>\n",
       "      <td>ISIC_0026718</td>\n",
       "      <td>nv</td>\n",
       "      <td>follow_up</td>\n",
       "      <td>55.0</td>\n",
       "      <td>female</td>\n",
       "      <td>genital</td>\n",
       "      <td>no_duplicates</td>\n",
       "    </tr>\n",
       "    <tr>\n",
       "      <th>8105</th>\n",
       "      <td>HAM_0004014</td>\n",
       "      <td>ISIC_0029809</td>\n",
       "      <td>nv</td>\n",
       "      <td>histo</td>\n",
       "      <td>45.0</td>\n",
       "      <td>male</td>\n",
       "      <td>chest</td>\n",
       "      <td>no_duplicates</td>\n",
       "    </tr>\n",
       "    <tr>\n",
       "      <th>6426</th>\n",
       "      <td>HAM_0005716</td>\n",
       "      <td>ISIC_0031841</td>\n",
       "      <td>nv</td>\n",
       "      <td>follow_up</td>\n",
       "      <td>50.0</td>\n",
       "      <td>male</td>\n",
       "      <td>back</td>\n",
       "      <td>no_duplicates</td>\n",
       "    </tr>\n",
       "    <tr>\n",
       "      <th>1094</th>\n",
       "      <td>HAM_0001223</td>\n",
       "      <td>ISIC_0030789</td>\n",
       "      <td>bkl</td>\n",
       "      <td>consensus</td>\n",
       "      <td>75.0</td>\n",
       "      <td>male</td>\n",
       "      <td>trunk</td>\n",
       "      <td>no_duplicates</td>\n",
       "    </tr>\n",
       "  </tbody>\n",
       "</table>\n",
       "<p>1000 rows × 8 columns</p>\n",
       "</div>"
      ],
      "text/plain": [
       "        lesion_id      image_id   dx    dx_type   age     sex  \\\n",
       "905   HAM_0005845  ISIC_0025851  bkl  consensus  80.0  female   \n",
       "3857  HAM_0005397  ISIC_0028105   nv  follow_up  35.0    male   \n",
       "2213  HAM_0006744  ISIC_0031561  mel      histo  55.0    male   \n",
       "3989  HAM_0001909  ISIC_0025481   nv  follow_up  55.0    male   \n",
       "4028  HAM_0000010  ISIC_0027730   nv  follow_up  70.0  female   \n",
       "...           ...           ...  ...        ...   ...     ...   \n",
       "6034  HAM_0006589  ISIC_0031187   nv  follow_up  40.0    male   \n",
       "3861  HAM_0007285  ISIC_0026718   nv  follow_up  55.0  female   \n",
       "8105  HAM_0004014  ISIC_0029809   nv      histo  45.0    male   \n",
       "6426  HAM_0005716  ISIC_0031841   nv  follow_up  50.0    male   \n",
       "1094  HAM_0001223  ISIC_0030789  bkl  consensus  75.0    male   \n",
       "\n",
       "         localization     duplicates  \n",
       "905              face  no_duplicates  \n",
       "3857  lower extremity  no_duplicates  \n",
       "2213             back  no_duplicates  \n",
       "3989  upper extremity  no_duplicates  \n",
       "4028             back  no_duplicates  \n",
       "...               ...            ...  \n",
       "6034            trunk  no_duplicates  \n",
       "3861          genital  no_duplicates  \n",
       "8105            chest  no_duplicates  \n",
       "6426             back  no_duplicates  \n",
       "1094            trunk  no_duplicates  \n",
       "\n",
       "[1000 rows x 8 columns]"
      ]
     },
     "execution_count": 14,
     "metadata": {},
     "output_type": "execute_result"
    }
   ],
   "source": [
    "df_val"
   ]
  },
  {
   "cell_type": "code",
   "execution_count": 15,
   "metadata": {
    "execution": {
     "iopub.execute_input": "2023-04-06T11:47:12.288836Z",
     "iopub.status.busy": "2023-04-06T11:47:12.288418Z",
     "iopub.status.idle": "2023-04-06T11:47:12.311778Z",
     "shell.execute_reply": "2023-04-06T11:47:12.311128Z",
     "shell.execute_reply.started": "2023-04-06T11:47:12.288803Z"
    }
   },
   "outputs": [
    {
     "data": {
      "text/html": [
       "<div>\n",
       "<style scoped>\n",
       "    .dataframe tbody tr th:only-of-type {\n",
       "        vertical-align: middle;\n",
       "    }\n",
       "\n",
       "    .dataframe tbody tr th {\n",
       "        vertical-align: top;\n",
       "    }\n",
       "\n",
       "    .dataframe thead th {\n",
       "        text-align: right;\n",
       "    }\n",
       "</style>\n",
       "<table border=\"1\" class=\"dataframe\">\n",
       "  <thead>\n",
       "    <tr style=\"text-align: right;\">\n",
       "      <th></th>\n",
       "      <th>lesion_id</th>\n",
       "      <th>image_id</th>\n",
       "      <th>dx</th>\n",
       "      <th>dx_type</th>\n",
       "      <th>age</th>\n",
       "      <th>sex</th>\n",
       "      <th>localization</th>\n",
       "      <th>duplicates</th>\n",
       "    </tr>\n",
       "  </thead>\n",
       "  <tbody>\n",
       "    <tr>\n",
       "      <th>5637</th>\n",
       "      <td>HAM_0002248</td>\n",
       "      <td>ISIC_0029011</td>\n",
       "      <td>nv</td>\n",
       "      <td>follow_up</td>\n",
       "      <td>40.0</td>\n",
       "      <td>female</td>\n",
       "      <td>trunk</td>\n",
       "      <td>no_duplicates</td>\n",
       "    </tr>\n",
       "    <tr>\n",
       "      <th>8226</th>\n",
       "      <td>HAM_0001212</td>\n",
       "      <td>ISIC_0024846</td>\n",
       "      <td>nv</td>\n",
       "      <td>histo</td>\n",
       "      <td>40.0</td>\n",
       "      <td>female</td>\n",
       "      <td>back</td>\n",
       "      <td>no_duplicates</td>\n",
       "    </tr>\n",
       "    <tr>\n",
       "      <th>9403</th>\n",
       "      <td>HAM_0003362</td>\n",
       "      <td>ISIC_0033313</td>\n",
       "      <td>nv</td>\n",
       "      <td>consensus</td>\n",
       "      <td>45.0</td>\n",
       "      <td>female</td>\n",
       "      <td>unknown</td>\n",
       "      <td>no_duplicates</td>\n",
       "    </tr>\n",
       "    <tr>\n",
       "      <th>5619</th>\n",
       "      <td>HAM_0001395</td>\n",
       "      <td>ISIC_0031818</td>\n",
       "      <td>nv</td>\n",
       "      <td>follow_up</td>\n",
       "      <td>50.0</td>\n",
       "      <td>female</td>\n",
       "      <td>foot</td>\n",
       "      <td>no_duplicates</td>\n",
       "    </tr>\n",
       "    <tr>\n",
       "      <th>1947</th>\n",
       "      <td>HAM_0005600</td>\n",
       "      <td>ISIC_0025520</td>\n",
       "      <td>mel</td>\n",
       "      <td>histo</td>\n",
       "      <td>65.0</td>\n",
       "      <td>male</td>\n",
       "      <td>back</td>\n",
       "      <td>no_duplicates</td>\n",
       "    </tr>\n",
       "    <tr>\n",
       "      <th>...</th>\n",
       "      <td>...</td>\n",
       "      <td>...</td>\n",
       "      <td>...</td>\n",
       "      <td>...</td>\n",
       "      <td>...</td>\n",
       "      <td>...</td>\n",
       "      <td>...</td>\n",
       "      <td>...</td>\n",
       "    </tr>\n",
       "    <tr>\n",
       "      <th>999</th>\n",
       "      <td>HAM_0004078</td>\n",
       "      <td>ISIC_0026566</td>\n",
       "      <td>bkl</td>\n",
       "      <td>consensus</td>\n",
       "      <td>70.0</td>\n",
       "      <td>female</td>\n",
       "      <td>trunk</td>\n",
       "      <td>no_duplicates</td>\n",
       "    </tr>\n",
       "    <tr>\n",
       "      <th>635</th>\n",
       "      <td>HAM_0001486</td>\n",
       "      <td>ISIC_0029384</td>\n",
       "      <td>bkl</td>\n",
       "      <td>histo</td>\n",
       "      <td>40.0</td>\n",
       "      <td>male</td>\n",
       "      <td>face</td>\n",
       "      <td>no_duplicates</td>\n",
       "    </tr>\n",
       "    <tr>\n",
       "      <th>2957</th>\n",
       "      <td>HAM_0000807</td>\n",
       "      <td>ISIC_0032164</td>\n",
       "      <td>bcc</td>\n",
       "      <td>histo</td>\n",
       "      <td>65.0</td>\n",
       "      <td>female</td>\n",
       "      <td>chest</td>\n",
       "      <td>no_duplicates</td>\n",
       "    </tr>\n",
       "    <tr>\n",
       "      <th>4710</th>\n",
       "      <td>HAM_0000334</td>\n",
       "      <td>ISIC_0026860</td>\n",
       "      <td>nv</td>\n",
       "      <td>follow_up</td>\n",
       "      <td>35.0</td>\n",
       "      <td>female</td>\n",
       "      <td>abdomen</td>\n",
       "      <td>no_duplicates</td>\n",
       "    </tr>\n",
       "    <tr>\n",
       "      <th>4417</th>\n",
       "      <td>HAM_0001251</td>\n",
       "      <td>ISIC_0026972</td>\n",
       "      <td>nv</td>\n",
       "      <td>follow_up</td>\n",
       "      <td>45.0</td>\n",
       "      <td>male</td>\n",
       "      <td>lower extremity</td>\n",
       "      <td>no_duplicates</td>\n",
       "    </tr>\n",
       "  </tbody>\n",
       "</table>\n",
       "<p>1000 rows × 8 columns</p>\n",
       "</div>"
      ],
      "text/plain": [
       "        lesion_id      image_id   dx    dx_type   age     sex  \\\n",
       "5637  HAM_0002248  ISIC_0029011   nv  follow_up  40.0  female   \n",
       "8226  HAM_0001212  ISIC_0024846   nv      histo  40.0  female   \n",
       "9403  HAM_0003362  ISIC_0033313   nv  consensus  45.0  female   \n",
       "5619  HAM_0001395  ISIC_0031818   nv  follow_up  50.0  female   \n",
       "1947  HAM_0005600  ISIC_0025520  mel      histo  65.0    male   \n",
       "...           ...           ...  ...        ...   ...     ...   \n",
       "999   HAM_0004078  ISIC_0026566  bkl  consensus  70.0  female   \n",
       "635   HAM_0001486  ISIC_0029384  bkl      histo  40.0    male   \n",
       "2957  HAM_0000807  ISIC_0032164  bcc      histo  65.0  female   \n",
       "4710  HAM_0000334  ISIC_0026860   nv  follow_up  35.0  female   \n",
       "4417  HAM_0001251  ISIC_0026972   nv  follow_up  45.0    male   \n",
       "\n",
       "         localization     duplicates  \n",
       "5637            trunk  no_duplicates  \n",
       "8226             back  no_duplicates  \n",
       "9403          unknown  no_duplicates  \n",
       "5619             foot  no_duplicates  \n",
       "1947             back  no_duplicates  \n",
       "...               ...            ...  \n",
       "999             trunk  no_duplicates  \n",
       "635              face  no_duplicates  \n",
       "2957            chest  no_duplicates  \n",
       "4710          abdomen  no_duplicates  \n",
       "4417  lower extremity  no_duplicates  \n",
       "\n",
       "[1000 rows x 8 columns]"
      ]
     },
     "execution_count": 15,
     "metadata": {},
     "output_type": "execute_result"
    }
   ],
   "source": [
    "df_test"
   ]
  },
  {
   "cell_type": "code",
   "execution_count": 16,
   "metadata": {
    "execution": {
     "iopub.execute_input": "2023-04-06T11:47:12.313233Z",
     "iopub.status.busy": "2023-04-06T11:47:12.312839Z",
     "iopub.status.idle": "2023-04-06T11:48:26.338993Z",
     "shell.execute_reply": "2023-04-06T11:48:26.337825Z",
     "shell.execute_reply.started": "2023-04-06T11:47:12.313199Z"
    }
   },
   "outputs": [],
   "source": [
    "df_data.set_index('image_id', inplace=True)\n",
    "\n",
    "folder_1 = os.listdir(input_path + 'ham10000_images_part_1')\n",
    "folder_2 = os.listdir(input_path + 'ham10000_images_part_2')\n",
    "\n",
    "train_list = list(df_train['image_id'])\n",
    "val_list = list(df_val['image_id'])\n",
    "test_list = list(df_test['image_id'])\n",
    "\n",
    "\n",
    "for image in train_list:\n",
    "    \n",
    "    file_name = image + '.jpg'\n",
    "    label = df_data.loc[image, 'dx']\n",
    "    \n",
    "    if file_name in folder_1:\n",
    "        \n",
    "        src = os.path.join(input_path + 'ham10000_images_part_1', file_name)\n",
    "        dst = os.path.join(train_dir, label, file_name)\n",
    "        \n",
    "        shutil.copy(src, dst)\n",
    "    \n",
    "    if file_name in folder_2:\n",
    "        \n",
    "        src = os.path.join(input_path + 'ham10000_images_part_2', file_name)\n",
    "        dst = os.path.join(train_dir, label, file_name)\n",
    "        \n",
    "        shutil.copy(src, dst)\n",
    "        \n",
    "\n",
    "for image in val_list:\n",
    "    \n",
    "    file_name = image + '.jpg'\n",
    "    label = df_data.loc[image, 'dx']\n",
    "    \n",
    "    if file_name in folder_1:\n",
    "        \n",
    "        src = os.path.join(input_path + 'ham10000_images_part_1', file_name)\n",
    "        dst = os.path.join(val_dir, label, file_name)\n",
    "        \n",
    "        shutil.copy(src, dst)\n",
    "    \n",
    "    if file_name in folder_2:\n",
    "        \n",
    "        src = os.path.join(input_path + 'ham10000_images_part_2', file_name)\n",
    "        dst = os.path.join(val_dir, label, file_name)\n",
    "        shutil.copy(src, dst)\n",
    "        \n",
    "        \n",
    "for image in test_list:\n",
    "    \n",
    "    file_name = image + '.jpg'\n",
    "    label = df_data.loc[image, 'dx']\n",
    "    \n",
    "    if file_name in folder_1:\n",
    "        \n",
    "        src = os.path.join(input_path + 'ham10000_images_part_1', file_name)\n",
    "        dst = os.path.join(test_dir, label, file_name)\n",
    "        \n",
    "        shutil.copy(src, dst)\n",
    "    \n",
    "    if file_name in folder_2:\n",
    "        \n",
    "        src = os.path.join(input_path + 'ham10000_images_part_2', file_name)\n",
    "        dst = os.path.join(test_dir, label, file_name)\n",
    "        \n",
    "        shutil.copy(src, dst)"
   ]
  },
  {
   "cell_type": "markdown",
   "metadata": {},
   "source": [
    "**Data Augumentataion**"
   ]
  },
  {
   "cell_type": "code",
   "execution_count": 17,
   "metadata": {
    "execution": {
     "iopub.execute_input": "2023-04-06T11:48:26.340996Z",
     "iopub.status.busy": "2023-04-06T11:48:26.340616Z",
     "iopub.status.idle": "2023-04-06T12:00:11.550319Z",
     "shell.execute_reply": "2023-04-06T12:00:11.548694Z",
     "shell.execute_reply.started": "2023-04-06T11:48:26.340949Z"
    }
   },
   "outputs": [
    {
     "name": "stdout",
     "output_type": "stream",
     "text": [
      "Found 1026 images belonging to 1 classes.\n",
      "Found 942 images belonging to 1 classes.\n",
      "Found 454 images belonging to 1 classes.\n",
      "Found 284 images belonging to 1 classes.\n",
      "Found 120 images belonging to 1 classes.\n",
      "Found 103 images belonging to 1 classes.\n"
     ]
    }
   ],
   "source": [
    "class_list = ['mel', 'bkl','bcc','akiec','vasc','df']\n",
    "\n",
    "for clas in class_list:\n",
    "    aug_dir = 'aug_dir'\n",
    "    os.mkdir(aug_dir)\n",
    "    \n",
    "    img_dir = os.path.join(aug_dir, 'img_dir')\n",
    "    os.mkdir(img_dir)\n",
    "    \n",
    "    img_class = clas\n",
    "    \n",
    "    img_list = os.listdir(train_dir +\"/\"+ img_class)\n",
    "    \n",
    "    for fname in img_list:\n",
    "        \n",
    "        src = os.path.join(train_dir +\"/\" + img_class,fname)\n",
    "#         dst = os.path.join(img_dir,fname)\n",
    "        dst = img_dir\n",
    "        \n",
    "        shutil.copy(src, dst)\n",
    "        \n",
    "    path = aug_dir\n",
    "    save_path = train_dir +\"/\" + img_class\n",
    "    \n",
    "    datagen = ImageDataGenerator(rotation_range=180,width_shift_range=0.1,height_shift_range=0.1,zoom_range=0.1,horizontal_flip=True,vertical_flip=True,fill_mode='nearest')\n",
    "    batch_size = 50\n",
    "    \n",
    "    aug_datagen = datagen.flow_from_directory(path, save_to_dir = save_path, save_format='jpg',target_size=(224,224),batch_size=batch_size)\n",
    "    \n",
    "    num_aug_imgs_wanted = 6000\n",
    "    num_files = len(os.listdir(img_dir))\n",
    "    num_batches = int(np.ceil((num_aug_imgs_wanted - num_files)/batch_size))\n",
    "    \n",
    "    for i in range(0, num_batches):\n",
    "        imgs, labels = next(aug_datagen) #should research\n",
    "        \n",
    "    shutil.rmtree('aug_dir')"
   ]
  },
  {
   "cell_type": "code",
   "execution_count": 18,
   "metadata": {
    "execution": {
     "iopub.execute_input": "2023-04-06T12:00:11.553324Z",
     "iopub.status.busy": "2023-04-06T12:00:11.552958Z",
     "iopub.status.idle": "2023-04-06T12:00:11.562008Z",
     "shell.execute_reply": "2023-04-06T12:00:11.561348Z",
     "shell.execute_reply.started": "2023-04-06T12:00:11.553277Z"
    }
   },
   "outputs": [],
   "source": [
    "num_train_samples = 8000\n",
    "num_val_samples = 1000\n",
    "num_test_samples = 1000\n",
    "train_batch_size = 10\n",
    "val_batch_size = 10\n",
    "test_batch_size = 10\n",
    "image_size = 28\n",
    "\n",
    "train_steps = np.ceil(num_train_samples / train_batch_size)\n",
    "val_steps = np.ceil(num_val_samples / val_batch_size)\n",
    "test_steps = np.ceil(num_test_samples / test_batch_size)"
   ]
  },
  {
   "cell_type": "code",
   "execution_count": 19,
   "metadata": {
    "execution": {
     "iopub.execute_input": "2023-04-06T12:00:11.563657Z",
     "iopub.status.busy": "2023-04-06T12:00:11.563092Z",
     "iopub.status.idle": "2023-04-06T12:00:11.578140Z",
     "shell.execute_reply": "2023-04-06T12:00:11.577157Z",
     "shell.execute_reply.started": "2023-04-06T12:00:11.563623Z"
    }
   },
   "outputs": [
    {
     "data": {
      "text/plain": [
       "'main_dir\\\\train_dir'"
      ]
     },
     "execution_count": 19,
     "metadata": {},
     "output_type": "execute_result"
    }
   ],
   "source": [
    "train_dir"
   ]
  },
  {
   "cell_type": "code",
   "execution_count": 20,
   "metadata": {
    "execution": {
     "iopub.execute_input": "2023-04-06T12:00:11.580278Z",
     "iopub.status.busy": "2023-04-06T12:00:11.579839Z",
     "iopub.status.idle": "2023-04-06T12:00:13.699954Z",
     "shell.execute_reply": "2023-04-06T12:00:13.698936Z",
     "shell.execute_reply.started": "2023-04-06T12:00:11.580242Z"
    }
   },
   "outputs": [
    {
     "name": "stdout",
     "output_type": "stream",
     "text": [
      "Found 37266 images belonging to 7 classes.\n",
      "Found 1000 images belonging to 7 classes.\n",
      "Found 1000 images belonging to 7 classes.\n"
     ]
    }
   ],
   "source": [
    "datagen = ImageDataGenerator(preprocessing_function = tf.keras.applications.mobilenet.preprocess_input)\n",
    "\n",
    "train_batches = datagen.flow_from_directory(train_dir,target_size = (image_size, image_size), batch_size=train_batch_size)\n",
    "\n",
    "val_batches = datagen.flow_from_directory(val_dir,target_size=(image_size, image_size), batch_size=val_batch_size)\n",
    "\n",
    "test_batches = datagen.flow_from_directory(test_dir, target_size=(image_size, image_size), batch_size=1,shuffle=False)\n"
   ]
  },
  {
   "cell_type": "code",
   "execution_count": 21,
   "metadata": {
    "execution": {
     "iopub.execute_input": "2023-04-06T12:00:13.702005Z",
     "iopub.status.busy": "2023-04-06T12:00:13.701681Z",
     "iopub.status.idle": "2023-04-06T12:00:13.971261Z",
     "shell.execute_reply": "2023-04-06T12:00:13.970341Z",
     "shell.execute_reply.started": "2023-04-06T12:00:13.701962Z"
    }
   },
   "outputs": [
    {
     "name": "stdout",
     "output_type": "stream",
     "text": [
      "WARNING:tensorflow:From C:\\Users\\HP\\AppData\\Roaming\\Python\\Python311\\site-packages\\keras\\src\\backend.py:873: The name tf.get_default_graph is deprecated. Please use tf.compat.v1.get_default_graph instead.\n",
      "\n",
      "WARNING:tensorflow:From C:\\Users\\HP\\AppData\\Roaming\\Python\\Python311\\site-packages\\keras\\src\\layers\\pooling\\max_pooling2d.py:161: The name tf.nn.max_pool is deprecated. Please use tf.nn.max_pool2d instead.\n",
      "\n"
     ]
    }
   ],
   "source": [
    "model = Sequential()\n",
    "model.add(Convolution2D(6, kernel_size=(5, 5), activation='relu', input_shape=(28, 28, 3)))\n",
    "# model.summary()\n",
    "model.add(MaxPooling2D(pool_size=(2, 2)))\n",
    "model.add(Convolution2D(16, kernel_size=(5, 5), activation='relu'))\n",
    "model.add(MaxPooling2D(pool_size=(2, 2)))\n",
    "model.add(Flatten())\n",
    "model.add(Dense(120, activation='relu'))\n",
    "model.add(Dense(84, activation='relu'))\n",
    "model.add(Dense(7, activation='softmax'))"
   ]
  },
  {
   "cell_type": "code",
   "execution_count": 22,
   "metadata": {
    "execution": {
     "iopub.execute_input": "2023-04-06T12:00:13.972768Z",
     "iopub.status.busy": "2023-04-06T12:00:13.972515Z",
     "iopub.status.idle": "2023-04-06T12:00:13.982370Z",
     "shell.execute_reply": "2023-04-06T12:00:13.981501Z",
     "shell.execute_reply.started": "2023-04-06T12:00:13.972736Z"
    }
   },
   "outputs": [
    {
     "name": "stdout",
     "output_type": "stream",
     "text": [
      "Model: \"sequential\"\n",
      "_________________________________________________________________\n",
      " Layer (type)                Output Shape              Param #   \n",
      "=================================================================\n",
      " conv2d (Conv2D)             (None, 24, 24, 6)         456       \n",
      "                                                                 \n",
      " max_pooling2d (MaxPooling2  (None, 12, 12, 6)         0         \n",
      " D)                                                              \n",
      "                                                                 \n",
      " conv2d_1 (Conv2D)           (None, 8, 8, 16)          2416      \n",
      "                                                                 \n",
      " max_pooling2d_1 (MaxPoolin  (None, 4, 4, 16)          0         \n",
      " g2D)                                                            \n",
      "                                                                 \n",
      " flatten (Flatten)           (None, 256)               0         \n",
      "                                                                 \n",
      " dense (Dense)               (None, 120)               30840     \n",
      "                                                                 \n",
      " dense_1 (Dense)             (None, 84)                10164     \n",
      "                                                                 \n",
      " dense_2 (Dense)             (None, 7)                 595       \n",
      "                                                                 \n",
      "=================================================================\n",
      "Total params: 44471 (173.71 KB)\n",
      "Trainable params: 44471 (173.71 KB)\n",
      "Non-trainable params: 0 (0.00 Byte)\n",
      "_________________________________________________________________\n"
     ]
    }
   ],
   "source": [
    "model.summary()"
   ]
  },
  {
   "cell_type": "code",
   "execution_count": 23,
   "metadata": {
    "execution": {
     "iopub.execute_input": "2023-04-06T12:00:13.984199Z",
     "iopub.status.busy": "2023-04-06T12:00:13.983853Z",
     "iopub.status.idle": "2023-04-06T12:00:13.991086Z",
     "shell.execute_reply": "2023-04-06T12:00:13.990173Z",
     "shell.execute_reply.started": "2023-04-06T12:00:13.984155Z"
    }
   },
   "outputs": [],
   "source": [
    "def get_model_name(k):\n",
    "    return 'model_'+str(k)+'.h5'"
   ]
  },
  {
   "cell_type": "code",
   "execution_count": 24,
   "metadata": {
    "execution": {
     "iopub.execute_input": "2023-04-06T12:00:13.992275Z",
     "iopub.status.busy": "2023-04-06T12:00:13.991999Z",
     "iopub.status.idle": "2023-04-06T12:00:14.002137Z",
     "shell.execute_reply": "2023-04-06T12:00:14.001271Z",
     "shell.execute_reply.started": "2023-04-06T12:00:13.992240Z"
    }
   },
   "outputs": [],
   "source": [
    "idg = ImageDataGenerator(width_shift_range=0.1,\n",
    "                         height_shift_range=0.1,\n",
    "                         zoom_range=0.3,\n",
    "                         fill_mode='nearest',\n",
    "                         horizontal_flip = True,\n",
    "                         rescale=1./255)"
   ]
  },
  {
   "cell_type": "code",
   "execution_count": 27,
   "metadata": {
    "execution": {
     "iopub.execute_input": "2023-04-06T12:00:14.003669Z",
     "iopub.status.busy": "2023-04-06T12:00:14.003420Z",
     "iopub.status.idle": "2023-04-06T12:00:14.016752Z",
     "shell.execute_reply": "2023-04-06T12:00:14.015875Z",
     "shell.execute_reply.started": "2023-04-06T12:00:14.003638Z"
    }
   },
   "outputs": [
    {
     "data": {
      "text/plain": [
       "Index(['lesion_id', 'image_id', 'dx', 'dx_type', 'age', 'sex', 'localization',\n",
       "       'duplicates'],\n",
       "      dtype='object')"
      ]
     },
     "execution_count": 27,
     "metadata": {},
     "output_type": "execute_result"
    }
   ],
   "source": [
    "df.columns"
   ]
  },
  {
   "cell_type": "code",
   "execution_count": 28,
   "metadata": {
    "execution": {
     "iopub.execute_input": "2023-04-06T12:00:14.018239Z",
     "iopub.status.busy": "2023-04-06T12:00:14.017923Z",
     "iopub.status.idle": "2023-04-06T12:00:14.590952Z",
     "shell.execute_reply": "2023-04-06T12:00:14.590000Z",
     "shell.execute_reply.started": "2023-04-06T12:00:14.018210Z"
    }
   },
   "outputs": [
    {
     "data": {
      "image/png": "[encoded data removed]",
      "text/plain": [
       "<Figure size 640x480 with 15 Axes>"
      ]
     },
     "metadata": {},
     "output_type": "display_data"
    }
   ],
   "source": [
    "from matplotlib import pyplot\n",
    "from matplotlib import pyplot as plt\n",
    "filters, biases = model.layers[0].get_weights()\n",
    "# normalize filter values to 0-1 so we can visualize them\n",
    "f_min, f_max = filters.min(), filters.max()\n",
    "filters = (filters - f_min) / (f_max - f_min)\n",
    "# plot first few filters\n",
    "n_filters, ix = 5, 1\n",
    "for i in range(n_filters):\n",
    "\t# get the filter\n",
    "\tf = filters[:, :, :, i]\n",
    "\t# plot each channel separately\n",
    "\tfor j in range(3):\n",
    "\t\t# specify subplot and turn of axis\n",
    "\t\tax = pyplot.subplot(n_filters, 3, ix)\n",
    "\t\tax.set_xticks([])\n",
    "\t\tax.set_yticks([])\n",
    "\t\t# plot filter channel in grayscale\n",
    "\t\tpyplot.imshow(f[:, :, j], cmap='gray')\n",
    "\t\tix += 1\n",
    "# show the figure\n",
    "pyplot.show()\n"
   ]
  },
  {
   "cell_type": "code",
   "execution_count": 29,
   "metadata": {
    "execution": {
     "iopub.execute_input": "2023-04-06T12:00:14.595167Z",
     "iopub.status.busy": "2023-04-06T12:00:14.594707Z",
     "iopub.status.idle": "2023-04-06T12:14:38.053361Z",
     "shell.execute_reply": "2023-04-06T12:14:38.052356Z",
     "shell.execute_reply.started": "2023-04-06T12:00:14.595127Z"
    }
   },
   "outputs": [
    {
     "name": "stdout",
     "output_type": "stream",
     "text": [
      "WARNING:tensorflow:From C:\\Users\\HP\\AppData\\Roaming\\Python\\Python311\\site-packages\\keras\\src\\optimizers\\__init__.py:309: The name tf.train.Optimizer is deprecated. Please use tf.compat.v1.train.Optimizer instead.\n",
      "\n",
      "Epoch 1/20\n",
      "WARNING:tensorflow:From C:\\Users\\HP\\AppData\\Roaming\\Python\\Python311\\site-packages\\keras\\src\\utils\\tf_utils.py:492: The name tf.ragged.RaggedTensorValue is deprecated. Please use tf.compat.v1.ragged.RaggedTensorValue instead.\n",
      "\n",
      "WARNING:tensorflow:From C:\\Users\\HP\\AppData\\Roaming\\Python\\Python311\\site-packages\\keras\\src\\engine\\base_layer_utils.py:384: The name tf.executing_eagerly_outside_functions is deprecated. Please use tf.compat.v1.executing_eagerly_outside_functions instead.\n",
      "\n",
      "800/800 [==============================] - 89s 107ms/step - loss: 1.5468 - accuracy: 0.3869 - val_loss: 1.4128 - val_accuracy: 0.5100\n",
      "Epoch 2/20\n",
      "800/800 [==============================] - 84s 105ms/step - loss: 1.3626 - accuracy: 0.4690 - val_loss: 0.7878 - val_accuracy: 0.7330\n",
      "Epoch 3/20\n",
      "800/800 [==============================] - 85s 106ms/step - loss: 1.2660 - accuracy: 0.5030 - val_loss: 1.0545 - val_accuracy: 0.6560\n",
      "Epoch 4/20\n",
      "800/800 [==============================] - 86s 108ms/step - loss: 1.2240 - accuracy: 0.5264 - val_loss: 0.9446 - val_accuracy: 0.6610\n",
      "Epoch 5/20\n",
      "800/800 [==============================] - 80s 100ms/step - loss: 1.1810 - accuracy: 0.5371 - val_loss: 1.1166 - val_accuracy: 0.6050\n",
      "Epoch 6/20\n",
      "800/800 [==============================] - 82s 102ms/step - loss: 1.1346 - accuracy: 0.5605 - val_loss: 0.9140 - val_accuracy: 0.6820\n",
      "Epoch 7/20\n",
      "800/800 [==============================] - 81s 101ms/step - loss: 1.1335 - accuracy: 0.5631 - val_loss: 0.7988 - val_accuracy: 0.7190\n",
      "Epoch 8/20\n",
      "800/800 [==============================] - 93s 116ms/step - loss: 1.1162 - accuracy: 0.5710 - val_loss: 0.7055 - val_accuracy: 0.7340\n",
      "Epoch 9/20\n",
      "800/800 [==============================] - 119s 149ms/step - loss: 1.1177 - accuracy: 0.5697 - val_loss: 0.7264 - val_accuracy: 0.7470\n",
      "Epoch 10/20\n",
      "800/800 [==============================] - 117s 146ms/step - loss: 1.0883 - accuracy: 0.5840 - val_loss: 0.7268 - val_accuracy: 0.7380\n",
      "Epoch 11/20\n",
      "800/800 [==============================] - 120s 150ms/step - loss: 1.0886 - accuracy: 0.5790 - val_loss: 0.7135 - val_accuracy: 0.7380\n",
      "Epoch 12/20\n",
      "800/800 [==============================] - 118s 148ms/step - loss: 1.0779 - accuracy: 0.5879 - val_loss: 0.6855 - val_accuracy: 0.7470\n",
      "Epoch 13/20\n",
      "800/800 [==============================] - 119s 148ms/step - loss: 1.0653 - accuracy: 0.5959 - val_loss: 0.8469 - val_accuracy: 0.7300\n",
      "Epoch 14/20\n",
      "800/800 [==============================] - 121s 151ms/step - loss: 1.0526 - accuracy: 0.5981 - val_loss: 0.8155 - val_accuracy: 0.7080\n",
      "Epoch 15/20\n",
      "800/800 [==============================] - 121s 152ms/step - loss: 1.0422 - accuracy: 0.6037 - val_loss: 0.7958 - val_accuracy: 0.7400\n",
      "Epoch 16/20\n",
      "800/800 [==============================] - 119s 148ms/step - loss: 1.0603 - accuracy: 0.5934 - val_loss: 1.1847 - val_accuracy: 0.6100\n",
      "Epoch 17/20\n",
      "800/800 [==============================] - 122s 152ms/step - loss: 1.0435 - accuracy: 0.6081 - val_loss: 1.2992 - val_accuracy: 0.5300\n",
      "Epoch 18/20\n",
      "800/800 [==============================] - 122s 153ms/step - loss: 1.0554 - accuracy: 0.6045 - val_loss: 0.6550 - val_accuracy: 0.7690\n",
      "Epoch 19/20\n",
      "800/800 [==============================] - 123s 154ms/step - loss: 1.0508 - accuracy: 0.6010 - val_loss: 0.8505 - val_accuracy: 0.7170\n",
      "Epoch 20/20\n",
      "800/800 [==============================] - 125s 156ms/step - loss: 1.0384 - accuracy: 0.6086 - val_loss: 0.6833 - val_accuracy: 0.7800\n"
     ]
    }
   ],
   "source": [
    "model.compile(loss='categorical_crossentropy', optimizer='rmsprop',metrics=[\"accuracy\"])\n",
    "\n",
    "hist = model.fit(train_batches, steps_per_epoch=train_steps, epochs=20, validation_data= val_batches, validation_steps=val_steps)\n"
   ]
  },
  {
   "cell_type": "code",
   "execution_count": 30,
   "metadata": {
    "execution": {
     "iopub.execute_input": "2023-04-06T12:14:38.055112Z",
     "iopub.status.busy": "2023-04-06T12:14:38.054833Z",
     "iopub.status.idle": "2023-04-06T12:14:38.112798Z",
     "shell.execute_reply": "2023-04-06T12:14:38.111857Z",
     "shell.execute_reply.started": "2023-04-06T12:14:38.055078Z"
    }
   },
   "outputs": [
    {
     "name": "stderr",
     "output_type": "stream",
     "text": [
      "C:\\Users\\HP\\AppData\\Roaming\\Python\\Python311\\site-packages\\keras\\src\\engine\\training.py:3103: UserWarning: You are saving your model as an HDF5 file via `model.save()`. This file format is considered legacy. We recommend using instead the native Keras format, e.g. `model.save('my_model.keras')`.\n",
      "  saving_api.save_model(\n"
     ]
    }
   ],
   "source": [
    "model.save(\"model.h5\")"
   ]
  },
  {
   "cell_type": "code",
   "execution_count": 31,
   "metadata": {
    "execution": {
     "iopub.execute_input": "2023-04-06T12:14:38.118296Z",
     "iopub.status.busy": "2023-04-06T12:14:38.117965Z",
     "iopub.status.idle": "2023-04-06T12:14:38.710083Z",
     "shell.execute_reply": "2023-04-06T12:14:38.709027Z",
     "shell.execute_reply.started": "2023-04-06T12:14:38.118260Z"
    }
   },
   "outputs": [
    {
     "data": {
      "image/png": "[encoded data removed]",
      "text/plain": [
       "<Figure size 640x480 with 15 Axes>"
      ]
     },
     "metadata": {},
     "output_type": "display_data"
    }
   ],
   "source": [
    "filters, biases = model.layers[0].get_weights()\n",
    "# normalize filter values to 0-1 so we can visualize them\n",
    "f_min, f_max = filters.min(), filters.max()\n",
    "filters = (filters - f_min) / (f_max - f_min)\n",
    "# plot first few filters\n",
    "n_filters, ix = 5, 1\n",
    "for i in range(n_filters):\n",
    "\t# get the filter\n",
    "\tf = filters[:, :, :, i]\n",
    "\t# plot each channel separately\n",
    "\tfor j in range(3):\n",
    "\t\t# specify subplot and turn of axis\n",
    "\t\tax = pyplot.subplot(n_filters, 3, ix)\n",
    "\t\tax.set_xticks([])\n",
    "\t\tax.set_yticks([])\n",
    "\t\t# plot filter channel in grayscale\n",
    "\t\tpyplot.imshow(f[:, :, j], cmap='gray')\n",
    "\t\tix += 1\n",
    "# show the figure\n",
    "pyplot.show()\n"
   ]
  },
  {
   "cell_type": "code",
   "execution_count": 32,
   "metadata": {
    "execution": {
     "iopub.execute_input": "2023-04-06T12:14:38.712108Z",
     "iopub.status.busy": "2023-04-06T12:14:38.711683Z",
     "iopub.status.idle": "2023-04-06T12:14:38.717174Z",
     "shell.execute_reply": "2023-04-06T12:14:38.716103Z",
     "shell.execute_reply.started": "2023-04-06T12:14:38.712058Z"
    }
   },
   "outputs": [],
   "source": [
    "from keras.preprocessing.image import load_img\n",
    "from keras.preprocessing.image import img_to_array\n",
    "from keras.applications.vgg16 import preprocess_input\n",
    "from numpy import expand_dims"
   ]
  },
  {
   "cell_type": "code",
   "execution_count": 33,
   "metadata": {
    "execution": {
     "iopub.execute_input": "2023-04-06T12:14:38.719123Z",
     "iopub.status.busy": "2023-04-06T12:14:38.718629Z",
     "iopub.status.idle": "2023-04-06T12:14:51.211247Z",
     "shell.execute_reply": "2023-04-06T12:14:51.210320Z",
     "shell.execute_reply.started": "2023-04-06T12:14:38.719056Z"
    }
   },
   "outputs": [
    {
     "name": "stdout",
     "output_type": "stream",
     "text": [
      "1000/1000 [==============================] - 31s 31ms/step\n"
     ]
    }
   ],
   "source": [
    "predictions = model.predict(test_batches, steps=1000, verbose=1)"
   ]
  },
  {
   "cell_type": "code",
   "execution_count": 34,
   "metadata": {
    "execution": {
     "iopub.execute_input": "2023-04-06T12:14:51.213254Z",
     "iopub.status.busy": "2023-04-06T12:14:51.212651Z",
     "iopub.status.idle": "2023-04-06T12:14:51.221412Z",
     "shell.execute_reply": "2023-04-06T12:14:51.220445Z",
     "shell.execute_reply.started": "2023-04-06T12:14:51.213214Z"
    }
   },
   "outputs": [
    {
     "name": "stdout",
     "output_type": "stream",
     "text": [
      "[[2.51784325e-01 3.64047498e-01 5.34739271e-02 ... 2.02095937e-02\n",
      "  1.92489605e-02 1.09071133e-03]\n",
      " [1.07709162e-01 5.50557196e-01 2.51302749e-01 ... 9.77243297e-03\n",
      "  2.55064927e-02 1.72783213e-04]\n",
      " [1.05037443e-01 1.65216103e-01 2.77019858e-01 ... 6.76966086e-02\n",
      "  2.78981745e-01 1.15497876e-03]\n",
      " ...\n",
      " [3.51921850e-32 1.04211039e-16 6.95315946e-18 ... 6.61020277e-16\n",
      "  1.21875018e-16 1.00000000e+00]\n",
      " [3.56659181e-02 3.14379334e-01 1.13588974e-01 ... 5.74943200e-02\n",
      "  1.42729297e-01 2.73416668e-01]\n",
      " [1.63643267e-06 1.11820512e-01 2.54109851e-04 ... 1.33635011e-04\n",
      "  5.31234946e-05 8.87723982e-01]]\n"
     ]
    }
   ],
   "source": [
    "print(predictions)"
   ]
  },
  {
   "cell_type": "code",
   "execution_count": 35,
   "metadata": {
    "execution": {
     "iopub.execute_input": "2023-04-06T12:14:51.223589Z",
     "iopub.status.busy": "2023-04-06T12:14:51.223234Z",
     "iopub.status.idle": "2023-04-06T12:14:51.230248Z",
     "shell.execute_reply": "2023-04-06T12:14:51.229414Z",
     "shell.execute_reply.started": "2023-04-06T12:14:51.223543Z"
    }
   },
   "outputs": [],
   "source": [
    "test_labels = test_batches.classes"
   ]
  },
  {
   "cell_type": "code",
   "execution_count": 36,
   "metadata": {
    "execution": {
     "iopub.execute_input": "2023-04-06T12:14:51.231901Z",
     "iopub.status.busy": "2023-04-06T12:14:51.231586Z",
     "iopub.status.idle": "2023-04-06T12:14:51.245840Z",
     "shell.execute_reply": "2023-04-06T12:14:51.245156Z",
     "shell.execute_reply.started": "2023-04-06T12:14:51.231858Z"
    }
   },
   "outputs": [
    {
     "data": {
      "text/plain": [
       "array([0, 0, 0, 0, 0, 0, 0, 0, 0, 0, 0, 0, 0, 0, 0, 0, 0, 1, 1, 1, 1, 1,\n",
       "       1, 1, 1, 1, 1, 1, 1, 1, 1, 1, 1, 1, 1, 1, 1, 1, 1, 1, 1, 1, 1, 1,\n",
       "       1, 1, 1, 1, 1, 1, 1, 1, 1, 1, 2, 2, 2, 2, 2, 2, 2, 2, 2, 2, 2, 2,\n",
       "       2, 2, 2, 2, 2, 2, 2, 2, 2, 2, 2, 2, 2, 2, 2, 2, 2, 2, 2, 2, 2, 2,\n",
       "       2, 2, 2, 2, 2, 2, 2, 2, 2, 2, 2, 2, 2, 2, 2, 2, 2, 2, 2, 2, 2, 2,\n",
       "       2, 2, 2, 2, 2, 2, 2, 2, 2, 2, 2, 2, 2, 2, 2, 2, 2, 2, 2, 2, 2, 2,\n",
       "       2, 2, 2, 3, 3, 3, 4, 4, 4, 4, 4, 4, 4, 4, 4, 4, 4, 4, 4, 4, 4, 4,\n",
       "       4, 4, 4, 4, 4, 4, 4, 4, 4, 4, 4, 4, 4, 4, 4, 4, 4, 4, 4, 4, 4, 4,\n",
       "       4, 5, 5, 5, 5, 5, 5, 5, 5, 5, 5, 5, 5, 5, 5, 5, 5, 5, 5, 5, 5, 5,\n",
       "       5, 5, 5, 5, 5, 5, 5, 5, 5, 5, 5, 5, 5, 5, 5, 5, 5, 5, 5, 5, 5, 5,\n",
       "       5, 5, 5, 5, 5, 5, 5, 5, 5, 5, 5, 5, 5, 5, 5, 5, 5, 5, 5, 5, 5, 5,\n",
       "       5, 5, 5, 5, 5, 5, 5, 5, 5, 5, 5, 5, 5, 5, 5, 5, 5, 5, 5, 5, 5, 5,\n",
       "       5, 5, 5, 5, 5, 5, 5, 5, 5, 5, 5, 5, 5, 5, 5, 5, 5, 5, 5, 5, 5, 5,\n",
       "       5, 5, 5, 5, 5, 5, 5, 5, 5, 5, 5, 5, 5, 5, 5, 5, 5, 5, 5, 5, 5, 5,\n",
       "       5, 5, 5, 5, 5, 5, 5, 5, 5, 5, 5, 5, 5, 5, 5, 5, 5, 5, 5, 5, 5, 5,\n",
       "       5, 5, 5, 5, 5, 5, 5, 5, 5, 5, 5, 5, 5, 5, 5, 5, 5, 5, 5, 5, 5, 5,\n",
       "       5, 5, 5, 5, 5, 5, 5, 5, 5, 5, 5, 5, 5, 5, 5, 5, 5, 5, 5, 5, 5, 5,\n",
       "       5, 5, 5, 5, 5, 5, 5, 5, 5, 5, 5, 5, 5, 5, 5, 5, 5, 5, 5, 5, 5, 5,\n",
       "       5, 5, 5, 5, 5, 5, 5, 5, 5, 5, 5, 5, 5, 5, 5, 5, 5, 5, 5, 5, 5, 5,\n",
       "       5, 5, 5, 5, 5, 5, 5, 5, 5, 5, 5, 5, 5, 5, 5, 5, 5, 5, 5, 5, 5, 5,\n",
       "       5, 5, 5, 5, 5, 5, 5, 5, 5, 5, 5, 5, 5, 5, 5, 5, 5, 5, 5, 5, 5, 5,\n",
       "       5, 5, 5, 5, 5, 5, 5, 5, 5, 5, 5, 5, 5, 5, 5, 5, 5, 5, 5, 5, 5, 5,\n",
       "       5, 5, 5, 5, 5, 5, 5, 5, 5, 5, 5, 5, 5, 5, 5, 5, 5, 5, 5, 5, 5, 5,\n",
       "       5, 5, 5, 5, 5, 5, 5, 5, 5, 5, 5, 5, 5, 5, 5, 5, 5, 5, 5, 5, 5, 5,\n",
       "       5, 5, 5, 5, 5, 5, 5, 5, 5, 5, 5, 5, 5, 5, 5, 5, 5, 5, 5, 5, 5, 5,\n",
       "       5, 5, 5, 5, 5, 5, 5, 5, 5, 5, 5, 5, 5, 5, 5, 5, 5, 5, 5, 5, 5, 5,\n",
       "       5, 5, 5, 5, 5, 5, 5, 5, 5, 5, 5, 5, 5, 5, 5, 5, 5, 5, 5, 5, 5, 5,\n",
       "       5, 5, 5, 5, 5, 5, 5, 5, 5, 5, 5, 5, 5, 5, 5, 5, 5, 5, 5, 5, 5, 5,\n",
       "       5, 5, 5, 5, 5, 5, 5, 5, 5, 5, 5, 5, 5, 5, 5, 5, 5, 5, 5, 5, 5, 5,\n",
       "       5, 5, 5, 5, 5, 5, 5, 5, 5, 5, 5, 5, 5, 5, 5, 5, 5, 5, 5, 5, 5, 5,\n",
       "       5, 5, 5, 5, 5, 5, 5, 5, 5, 5, 5, 5, 5, 5, 5, 5, 5, 5, 5, 5, 5, 5,\n",
       "       5, 5, 5, 5, 5, 5, 5, 5, 5, 5, 5, 5, 5, 5, 5, 5, 5, 5, 5, 5, 5, 5,\n",
       "       5, 5, 5, 5, 5, 5, 5, 5, 5, 5, 5, 5, 5, 5, 5, 5, 5, 5, 5, 5, 5, 5,\n",
       "       5, 5, 5, 5, 5, 5, 5, 5, 5, 5, 5, 5, 5, 5, 5, 5, 5, 5, 5, 5, 5, 5,\n",
       "       5, 5, 5, 5, 5, 5, 5, 5, 5, 5, 5, 5, 5, 5, 5, 5, 5, 5, 5, 5, 5, 5,\n",
       "       5, 5, 5, 5, 5, 5, 5, 5, 5, 5, 5, 5, 5, 5, 5, 5, 5, 5, 5, 5, 5, 5,\n",
       "       5, 5, 5, 5, 5, 5, 5, 5, 5, 5, 5, 5, 5, 5, 5, 5, 5, 5, 5, 5, 5, 5,\n",
       "       5, 5, 5, 5, 5, 5, 5, 5, 5, 5, 5, 5, 5, 5, 5, 5, 5, 5, 5, 5, 5, 5,\n",
       "       5, 5, 5, 5, 5, 5, 5, 5, 5, 5, 5, 5, 5, 5, 5, 5, 5, 5, 5, 5, 5, 5,\n",
       "       5, 5, 5, 5, 5, 5, 5, 5, 5, 5, 5, 5, 5, 5, 5, 5, 5, 5, 5, 5, 5, 5,\n",
       "       5, 5, 5, 5, 5, 5, 5, 5, 5, 5, 5, 5, 5, 5, 5, 5, 5, 5, 5, 5, 5, 5,\n",
       "       5, 5, 5, 5, 5, 5, 5, 5, 5, 5, 5, 5, 5, 5, 5, 5, 5, 5, 5, 5, 5, 5,\n",
       "       5, 5, 5, 5, 5, 5, 5, 5, 5, 5, 5, 5, 5, 5, 5, 5, 5, 5, 5, 5, 5, 5,\n",
       "       5, 5, 5, 5, 5, 5, 5, 5, 5, 5, 5, 5, 5, 5, 5, 5, 5, 5, 5, 5, 5, 5,\n",
       "       5, 5, 5, 5, 5, 5, 5, 5, 5, 5, 5, 5, 5, 5, 5, 5, 5, 5, 6, 6, 6, 6,\n",
       "       6, 6, 6, 6, 6, 6, 6, 6, 6, 6])"
      ]
     },
     "execution_count": 36,
     "metadata": {},
     "output_type": "execute_result"
    }
   ],
   "source": [
    "test_labels"
   ]
  },
  {
   "cell_type": "code",
   "execution_count": 37,
   "metadata": {
    "execution": {
     "iopub.execute_input": "2023-04-06T12:14:51.247109Z",
     "iopub.status.busy": "2023-04-06T12:14:51.246870Z",
     "iopub.status.idle": "2023-04-06T12:15:03.024773Z",
     "shell.execute_reply": "2023-04-06T12:15:03.023853Z",
     "shell.execute_reply.started": "2023-04-06T12:14:51.247080Z"
    }
   },
   "outputs": [
    {
     "name": "stderr",
     "output_type": "stream",
     "text": [
      "C:\\Users\\HP\\AppData\\Local\\Temp\\ipykernel_19688\\1241010557.py:1: UserWarning: `Model.evaluate_generator` is deprecated and will be removed in a future version. Please use `Model.evaluate`, which supports generators.\n",
      "  loss, acc = model.evaluate_generator(test_batches, verbose=1)\n"
     ]
    },
    {
     "name": "stdout",
     "output_type": "stream",
     "text": [
      "1000/1000 [==============================] - 32s 32ms/step - loss: 0.5856 - accuracy: 0.8090\n"
     ]
    }
   ],
   "source": [
    "loss, acc = model.evaluate_generator(test_batches, verbose=1)"
   ]
  },
  {
   "cell_type": "code",
   "execution_count": 38,
   "metadata": {
    "execution": {
     "iopub.execute_input": "2023-04-06T12:15:03.026497Z",
     "iopub.status.busy": "2023-04-06T12:15:03.026273Z",
     "iopub.status.idle": "2023-04-06T12:15:03.033267Z",
     "shell.execute_reply": "2023-04-06T12:15:03.032343Z",
     "shell.execute_reply.started": "2023-04-06T12:15:03.026469Z"
    }
   },
   "outputs": [
    {
     "data": {
      "text/plain": [
       "0.8090000152587891"
      ]
     },
     "execution_count": 38,
     "metadata": {},
     "output_type": "execute_result"
    }
   ],
   "source": [
    "acc"
   ]
  },
  {
   "cell_type": "code",
   "execution_count": 39,
   "metadata": {
    "execution": {
     "iopub.execute_input": "2023-04-06T12:15:03.035949Z",
     "iopub.status.busy": "2023-04-06T12:15:03.034934Z",
     "iopub.status.idle": "2023-04-06T12:15:03.046583Z",
     "shell.execute_reply": "2023-04-06T12:15:03.045890Z",
     "shell.execute_reply.started": "2023-04-06T12:15:03.035900Z"
    }
   },
   "outputs": [],
   "source": [
    "def plot_confusion_matrix(cm, classes,\n",
    "                          normalize=False,\n",
    "                          title='Confusion matrix',\n",
    "                          cmap=plt.cm.Blues):\n",
    "    \"\"\"\n",
    "    This function prints and plots the confusion matrix.\n",
    "    Normalization can be applied by setting `normalize=True`.\n",
    "    \"\"\"\n",
    "    if normalize:\n",
    "        cm = cm.astype('float') / cm.sum(axis=1)[:, np.newaxis]\n",
    "        print(\"Normalized confusion matrix\")\n",
    "    else:\n",
    "        print('Confusion matrix, without normalization')\n",
    "\n",
    "    print(cm)\n",
    "\n",
    "    plt.imshow(cm, interpolation='nearest', cmap=cmap)\n",
    "    plt.title(title)\n",
    "    plt.colorbar()\n",
    "    tick_marks = np.arange(len(classes))\n",
    "    plt.xticks(tick_marks, classes, rotation=45)\n",
    "    plt.yticks(tick_marks, classes)\n",
    "\n",
    "    fmt = '.2f' if normalize else 'd'\n",
    "    thresh = cm.max() / 2.\n",
    "    for i, j in itertools.product(range(cm.shape[0]), range(cm.shape[1])):\n",
    "        plt.text(j, i, format(cm[i, j], fmt),\n",
    "                 horizontalalignment=\"center\",\n",
    "                 color=\"white\" if cm[i, j] > thresh else \"black\")\n",
    "\n",
    "    plt.ylabel('True label')\n",
    "    plt.xlabel('Predicted label')\n",
    "    plt.tight_layout()\n",
    "    plt.savefig('conf.png')"
   ]
  },
  {
   "cell_type": "code",
   "execution_count": 40,
   "metadata": {
    "execution": {
     "iopub.execute_input": "2023-04-06T12:15:03.048597Z",
     "iopub.status.busy": "2023-04-06T12:15:03.048085Z",
     "iopub.status.idle": "2023-04-06T12:15:03.067134Z",
     "shell.execute_reply": "2023-04-06T12:15:03.066356Z",
     "shell.execute_reply.started": "2023-04-06T12:15:03.048564Z"
    }
   },
   "outputs": [],
   "source": [
    "confusion_mat = confusion_matrix(test_labels, predictions.argmax(axis=1))"
   ]
  },
  {
   "cell_type": "code",
   "execution_count": 41,
   "metadata": {
    "execution": {
     "iopub.execute_input": "2023-04-06T12:15:03.068952Z",
     "iopub.status.busy": "2023-04-06T12:15:03.068710Z",
     "iopub.status.idle": "2023-04-06T12:15:03.075359Z",
     "shell.execute_reply": "2023-04-06T12:15:03.074494Z",
     "shell.execute_reply.started": "2023-04-06T12:15:03.068923Z"
    }
   },
   "outputs": [
    {
     "data": {
      "text/plain": [
       "{'akiec': 0, 'bcc': 1, 'bkl': 2, 'df': 3, 'mel': 4, 'nv': 5, 'vasc': 6}"
      ]
     },
     "execution_count": 41,
     "metadata": {},
     "output_type": "execute_result"
    }
   ],
   "source": [
    "test_batches.class_indices"
   ]
  },
  {
   "cell_type": "code",
   "execution_count": 42,
   "metadata": {
    "execution": {
     "iopub.execute_input": "2023-04-06T12:15:03.076974Z",
     "iopub.status.busy": "2023-04-06T12:15:03.076737Z",
     "iopub.status.idle": "2023-04-06T12:15:03.770688Z",
     "shell.execute_reply": "2023-04-06T12:15:03.769946Z",
     "shell.execute_reply.started": "2023-04-06T12:15:03.076945Z"
    }
   },
   "outputs": [
    {
     "name": "stdout",
     "output_type": "stream",
     "text": [
      "Confusion matrix, without normalization\n",
      "[[  6   6   4   0   0   1   0]\n",
      " [  4  29   2   1   0   1   0]\n",
      " [  5  12  33   2   6  23   0]\n",
      " [  0   1   0   1   0   1   0]\n",
      " [  4   2   9   0  13  10   1]\n",
      " [  6  14  30  22  18 717   2]\n",
      " [  0   4   0   0   0   0  10]]\n"
     ]
    },
    {
     "data": {
      "image/png": "[encoded data removed]",
      "text/plain": [
       "<Figure size 640x480 with 2 Axes>"
      ]
     },
     "metadata": {},
     "output_type": "display_data"
    }
   ],
   "source": [
    "cm_plot_labels = ['akiec', 'bcc', 'bkl', 'df', 'mel','nv', 'vasc']\n",
    "\n",
    "plot_confusion_matrix(confusion_mat, cm_plot_labels, title='Confusion Matrix')"
   ]
  }
 ],
 "metadata": {
  "kernelspec": {
   "display_name": "Python 3 (ipykernel)",
   "language": "python",
   "name": "python3"
  },
  "language_info": {
   "codemirror_mode": {
    "name": "ipython",
    "version": 3
   },
   "file_extension": ".py",
   "mimetype": "text/x-python",
   "name": "python",
   "nbconvert_exporter": "python",
   "pygments_lexer": "ipython3",
   "version": "3.11.5"
  }
 },
 "nbformat": 4,
 "nbformat_minor": 4
}
